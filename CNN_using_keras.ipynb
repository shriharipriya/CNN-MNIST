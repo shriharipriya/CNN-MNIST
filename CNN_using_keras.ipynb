{
 "cells": [
  {
   "cell_type": "code",
   "execution_count": 1,
   "id": "ff1b79e2",
   "metadata": {},
   "outputs": [],
   "source": [
    "#using MNIST dataset from keras\n",
    "from keras.datasets import mnist\n",
    "(xtrain,ytrain), (xtest, ytest) = mnist.load_data()"
   ]
  },
  {
   "cell_type": "code",
   "execution_count": 2,
   "id": "a14e4d83",
   "metadata": {},
   "outputs": [],
   "source": [
    "import matplotlib.pyplot as plt\n",
    "plt.imshow(xtrain[0])\n",
    "#xtrain[0].shape"
   ]
  },
  {
   "cell_type": "code",
   "execution_count": 3,
   "id": "f673c759",
   "metadata": {},
   "outputs": [
    {
     "data": {
      "text/plain": [
       "array([0., 0., 0., 0., 0., 1., 0., 0., 0., 0.], dtype=float32)"
      ]
     },
     "execution_count": 3,
     "metadata": {},
     "output_type": "execute_result"
    }
   ],
   "source": [
    "#Preprocessing\n",
    "#reshape\n",
    "xtrain = xtrain.reshape(60000,28,28,1)\n",
    "xtest = xtest.reshape(10000,28,28,1)\n",
    "#one-hot encoding\n",
    "from keras.utils import to_categorical\n",
    "ytrain = to_categorical(ytrain)\n",
    "ytest = to_categorical(ytest)\n",
    "ytrain[0]"
   ]
  },
  {
   "cell_type": "code",
   "execution_count": 4,
   "id": "c902582e",
   "metadata": {},
   "outputs": [],
   "source": [
    "from keras.models import Sequential\n",
    "from keras.layers import Dense, Conv2D, Flatten\n",
    "cnn = Sequential()\n",
    "cnn.add(Conv2D(64, kernel_size=3, activation='relu', input_shape=(28,28,1)))\n",
    "cnn.add(Conv2D(32, kernel_size=3, activation='relu'))\n",
    "cnn.add(Flatten())\n",
    "cnn.add(Dense(10, activation='softmax'))"
   ]
  },
  {
   "cell_type": "code",
   "execution_count": 5,
   "id": "b1263217",
   "metadata": {},
   "outputs": [],
   "source": [
    "cnn.compile(optimizer='adam',\n",
    "            loss='categorical_crossentropy',#as it is multiclass classification\n",
    "            metrics=['accuracy'])"
   ]
  },
  {
   "cell_type": "code",
   "execution_count": 6,
   "id": "bd620743",
   "metadata": {},
   "outputs": [
    {
     "name": "stdout",
     "output_type": "stream",
     "text": [
      "Epoch 1/2\n",
      "1875/1875 [==============================] - 69s 37ms/step - loss: 0.2718 - accuracy: 0.9510 - val_loss: 0.0986 - val_accuracy: 0.9695\n",
      "Epoch 2/2\n",
      "1875/1875 [==============================] - 67s 36ms/step - loss: 0.0727 - accuracy: 0.9780 - val_loss: 0.0820 - val_accuracy: 0.9753\n"
     ]
    },
    {
     "data": {
      "text/plain": [
       "<keras.callbacks.History at 0x158305e66a0>"
      ]
     },
     "execution_count": 6,
     "metadata": {},
     "output_type": "execute_result"
    }
   ],
   "source": [
    "cnn.fit(xtrain, ytrain, validation_data=(xtest, ytest), epochs=2)"
   ]
  },
  {
   "cell_type": "code",
   "execution_count": 10,
   "id": "8c2df63e",
   "metadata": {},
   "outputs": [
    {
     "name": "stdout",
     "output_type": "stream",
     "text": [
      "1/1 [==============================] - 0s 28ms/step\n"
     ]
    },
    {
     "data": {
      "text/plain": [
       "array([[1.3836278e-07, 6.8950720e-11, 4.7430510e-07, 1.2690467e-03,\n",
       "        4.0598663e-10, 2.2480113e-09, 8.1957358e-12, 9.9870157e-01,\n",
       "        2.8368251e-05, 3.8592773e-07],\n",
       "       [6.4119777e-06, 6.1239034e-06, 9.9998593e-01, 3.7958543e-07,\n",
       "        4.6377185e-08, 2.9752559e-10, 1.0335910e-06, 4.9432286e-10,\n",
       "        4.6948664e-08, 6.8248316e-15],\n",
       "       [2.7711171e-04, 9.9793148e-01, 9.5382333e-05, 1.9715860e-06,\n",
       "        4.5263852e-04, 8.9433262e-05, 7.4306040e-06, 6.5338891e-06,\n",
       "        1.1365637e-03, 1.4288859e-06]], dtype=float32)"
      ]
     },
     "execution_count": 10,
     "metadata": {},
     "output_type": "execute_result"
    }
   ],
   "source": [
    "cnn.predict(xtest[:3])#prediction that first three imgs are that of 7,2,1"
   ]
  },
  {
   "cell_type": "code",
   "execution_count": 11,
   "id": "831a62ca",
   "metadata": {},
   "outputs": [
    {
     "data": {
      "text/plain": [
       "array([[0., 0., 0., 0., 0., 0., 0., 1., 0., 0.],\n",
       "       [0., 0., 1., 0., 0., 0., 0., 0., 0., 0.],\n",
       "       [0., 1., 0., 0., 0., 0., 0., 0., 0., 0.]], dtype=float32)"
      ]
     },
     "execution_count": 11,
     "metadata": {},
     "output_type": "execute_result"
    }
   ],
   "source": [
    "ytest[:3]#model correctly classifies as 7,2,1 as well"
   ]
  },
  {
   "cell_type": "code",
   "execution_count": null,
   "id": "1360a614",
   "metadata": {},
   "outputs": [],
   "source": []
  }
 ],
 "metadata": {
  "kernelspec": {
   "display_name": "Python 3 (ipykernel)",
   "language": "python",
   "name": "python3"
  },
  "language_info": {
   "codemirror_mode": {
    "name": "ipython",
    "version": 3
   },
   "file_extension": ".py",
   "mimetype": "text/x-python",
   "name": "python",
   "nbconvert_exporter": "python",
   "pygments_lexer": "ipython3",
   "version": "3.9.13"
  }
 },
 "nbformat": 4,
 "nbformat_minor": 5
}
